{
 "cells": [
  {
   "cell_type": "code",
   "execution_count": 154,
   "metadata": {},
   "outputs": [],
   "source": [
    "#import the libraries\n",
    "import numpy as np\n",
    "from scipy.integrate import odeint\n",
    "import matplotlib.pyplot as plt\n",
    "import pandas as pd\n",
    "from sklearn.metrics import r2_score"
   ]
  },
  {
   "cell_type": "code",
   "execution_count": 155,
   "metadata": {},
   "outputs": [
    {
     "data": {
      "text/html": [
       "<div>\n",
       "<style scoped>\n",
       "    .dataframe tbody tr th:only-of-type {\n",
       "        vertical-align: middle;\n",
       "    }\n",
       "\n",
       "    .dataframe tbody tr th {\n",
       "        vertical-align: top;\n",
       "    }\n",
       "\n",
       "    .dataframe thead th {\n",
       "        text-align: right;\n",
       "    }\n",
       "</style>\n",
       "<table border=\"1\" class=\"dataframe\">\n",
       "  <thead>\n",
       "    <tr style=\"text-align: right;\">\n",
       "      <th></th>\n",
       "      <th>t(h)</th>\n",
       "      <th>X</th>\n",
       "      <th>S</th>\n",
       "      <th>P</th>\n",
       "    </tr>\n",
       "  </thead>\n",
       "  <tbody>\n",
       "    <tr>\n",
       "      <th>0</th>\n",
       "      <td>0</td>\n",
       "      <td>1.70</td>\n",
       "      <td>91.45</td>\n",
       "      <td>0.87</td>\n",
       "    </tr>\n",
       "    <tr>\n",
       "      <th>1</th>\n",
       "      <td>1</td>\n",
       "      <td>1.65</td>\n",
       "      <td>89.74</td>\n",
       "      <td>1.77</td>\n",
       "    </tr>\n",
       "    <tr>\n",
       "      <th>2</th>\n",
       "      <td>2</td>\n",
       "      <td>1.85</td>\n",
       "      <td>87.94</td>\n",
       "      <td>2.03</td>\n",
       "    </tr>\n",
       "    <tr>\n",
       "      <th>3</th>\n",
       "      <td>3</td>\n",
       "      <td>2.80</td>\n",
       "      <td>81.84</td>\n",
       "      <td>4.05</td>\n",
       "    </tr>\n",
       "    <tr>\n",
       "      <th>4</th>\n",
       "      <td>4</td>\n",
       "      <td>2.65</td>\n",
       "      <td>74.64</td>\n",
       "      <td>8.18</td>\n",
       "    </tr>\n",
       "    <tr>\n",
       "      <th>5</th>\n",
       "      <td>5</td>\n",
       "      <td>3.35</td>\n",
       "      <td>65.85</td>\n",
       "      <td>12.80</td>\n",
       "    </tr>\n",
       "    <tr>\n",
       "      <th>6</th>\n",
       "      <td>6</td>\n",
       "      <td>3.30</td>\n",
       "      <td>55.23</td>\n",
       "      <td>15.38</td>\n",
       "    </tr>\n",
       "    <tr>\n",
       "      <th>7</th>\n",
       "      <td>7</td>\n",
       "      <td>5.05</td>\n",
       "      <td>45.54</td>\n",
       "      <td>21.10</td>\n",
       "    </tr>\n",
       "    <tr>\n",
       "      <th>8</th>\n",
       "      <td>8</td>\n",
       "      <td>4.17</td>\n",
       "      <td>37.96</td>\n",
       "      <td>28.06</td>\n",
       "    </tr>\n",
       "    <tr>\n",
       "      <th>9</th>\n",
       "      <td>9</td>\n",
       "      <td>3.90</td>\n",
       "      <td>28.66</td>\n",
       "      <td>33.22</td>\n",
       "    </tr>\n",
       "    <tr>\n",
       "      <th>10</th>\n",
       "      <td>10</td>\n",
       "      <td>5.30</td>\n",
       "      <td>16.86</td>\n",
       "      <td>39.31</td>\n",
       "    </tr>\n",
       "    <tr>\n",
       "      <th>11</th>\n",
       "      <td>11</td>\n",
       "      <td>4.70</td>\n",
       "      <td>8.29</td>\n",
       "      <td>44.31</td>\n",
       "    </tr>\n",
       "    <tr>\n",
       "      <th>12</th>\n",
       "      <td>12</td>\n",
       "      <td>5.60</td>\n",
       "      <td>1.67</td>\n",
       "      <td>46.46</td>\n",
       "    </tr>\n",
       "  </tbody>\n",
       "</table>\n",
       "</div>"
      ],
      "text/plain": [
       "    t(h)     X      S      P\n",
       "0      0  1.70  91.45   0.87\n",
       "1      1  1.65  89.74   1.77\n",
       "2      2  1.85  87.94   2.03\n",
       "3      3  2.80  81.84   4.05\n",
       "4      4  2.65  74.64   8.18\n",
       "5      5  3.35  65.85  12.80\n",
       "6      6  3.30  55.23  15.38\n",
       "7      7  5.05  45.54  21.10\n",
       "8      8  4.17  37.96  28.06\n",
       "9      9  3.90  28.66  33.22\n",
       "10    10  5.30  16.86  39.31\n",
       "11    11  4.70   8.29  44.31\n",
       "12    12  5.60   1.67  46.46"
      ]
     },
     "execution_count": 155,
     "metadata": {},
     "output_type": "execute_result"
    }
   ],
   "source": [
    "#read the experimental data\n",
    "data = pd.read_csv(\"data.csv\")\n",
    "data"
   ]
  },
  {
   "cell_type": "code",
   "execution_count": 156,
   "metadata": {},
   "outputs": [],
   "source": [
    "#Definition of kinetic model (Monod)\n",
    "def monod(z,t):\n",
    "    #Conversion parameters (experimental)\n",
    "    Yxs = 0.0434\n",
    "    Yps = 0.5078\n",
    "    Ypx = Yps/Yxs\n",
    "\n",
    "    #Kinetics constants\n",
    "    umax= 0.10609\n",
    "    Ks  = 0.42995\n",
    "\n",
    "    #Assign each variable to a vector z\n",
    "    X = z[0]\n",
    "    S = z[1]\n",
    "    P = z[2]\n",
    "\n",
    "    #Define the ODE system\n",
    "    dXdt = umax*S/(Ks+S)*X\n",
    "    dSdt = -umax*S/(Ks+S)*X/Yxs\n",
    "    dPdt = umax*S/(Ks+S)*X*Ypx\n",
    "   \n",
    "    return [dXdt,dSdt,dPdt]"
   ]
  },
  {
   "cell_type": "code",
   "execution_count": 157,
   "metadata": {},
   "outputs": [],
   "source": [
    "#Define initial conditions\n",
    "X0 = data.iloc[0,1]\n",
    "S0 = data.iloc[0,2]\n",
    "P0 = data.iloc[0,3]\n",
    "init = [X0, S0, P0]"
   ]
  },
  {
   "cell_type": "code",
   "execution_count": 158,
   "metadata": {},
   "outputs": [],
   "source": [
    "#Define the time range of integration\n",
    "t = data.iloc[:,0]\n",
    "\n",
    "#Solve the ODE system\n",
    "y = odeint(monod,init, t)\n",
    "\n",
    "X = y[:,0]\n",
    "S = y[:,1]\n",
    "P = y[:,2]"
   ]
  },
  {
   "cell_type": "code",
   "execution_count": 159,
   "metadata": {},
   "outputs": [
    {
     "data": {
      "text/plain": [
       "<matplotlib.legend.Legend at 0x26c90f0a5e0>"
      ]
     },
     "execution_count": 159,
     "metadata": {},
     "output_type": "execute_result"
    },
    {
     "data": {
      "image/png": "[encoded data removed]",
      "text/plain": [
       "<Figure size 640x480 with 1 Axes>"
      ]
     },
     "metadata": {},
     "output_type": "display_data"
    }
   ],
   "source": [
    "#Graphics\n",
    "\n",
    "#Experimental data\n",
    "Xexp =  data.iloc[:,1]\n",
    "Sexp =  data.iloc[:,2]\n",
    "Pexp =  data.iloc[:,3]\n",
    "plt.plot(t, Xexp, 'o', color='black', label = 'Yeast')\n",
    "plt.plot(t, Sexp, 'o', color='orange', label = 'Substrate')\n",
    "plt.plot(t, Pexp, 'o', color='green', label = 'Ethanol')\n",
    "\n",
    "#ODE system model\n",
    "plt.plot(t, X,'-', color='black')\n",
    "plt.plot(t, S,'-', color='orange')\n",
    "plt.plot(t, P,'-', color='green')\n",
    "\n",
    "plt.xlabel('t (h)')\n",
    "plt.ylabel('Concentration (g/L)')\n",
    "plt.legend(loc='best')"
   ]
  },
  {
   "cell_type": "code",
   "execution_count": 160,
   "metadata": {},
   "outputs": [
    {
     "name": "stdout",
     "output_type": "stream",
     "text": [
      "X: R² = 0.835\n",
      "S: R² = 0.991\n",
      "P: R² = 0.982\n"
     ]
    }
   ],
   "source": [
    "#Statistics\n",
    "print(\"X: R² = {:.3f}\".format(r2_score(Xexp,X)))\n",
    "print(\"S: R² = {:.3f}\".format(r2_score(Sexp,S)))\n",
    "print(\"P: R² = {:.3f}\".format(r2_score(Pexp,P)))"
   ]
  },
  {
   "cell_type": "code",
   "execution_count": null,
   "metadata": {},
   "outputs": [],
   "source": []
  }
 ],
 "metadata": {
  "kernelspec": {
   "display_name": "Python 3.9.13 ('base')",
   "language": "python",
   "name": "python3"
  },
  "language_info": {
   "codemirror_mode": {
    "name": "ipython",
    "version": 3
   },
   "file_extension": ".py",
   "mimetype": "text/x-python",
   "name": "python",
   "nbconvert_exporter": "python",
   "pygments_lexer": "ipython3",
   "version": "3.9.13"
  },
  "orig_nbformat": 4,
  "vscode": {
   "interpreter": {
    "hash": "1870f1194fb5b3d43b6d32e845741389586dbe9c4e1e45e17e0f6602cfe22778"
   }
  }
 },
 "nbformat": 4,
 "nbformat_minor": 2
}
